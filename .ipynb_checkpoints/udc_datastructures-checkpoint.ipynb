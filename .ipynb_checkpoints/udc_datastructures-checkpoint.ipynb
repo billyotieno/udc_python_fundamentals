{
 "cells": [
  {
   "cell_type": "code",
   "execution_count": 2,
   "id": "3cd14828-add4-49db-af73-63ef9b86795d",
   "metadata": {},
   "outputs": [
    {
     "name": "stdout",
     "output_type": "stream",
     "text": [
      "(52, 40, 100)\n"
     ]
    }
   ],
   "source": [
    "# Tuple Data Structures - Ordered but Immutable\n",
    "dimensions = 52, 40, 100\n",
    "lenght, width, height = dimensions\n",
    "\n",
    "print(dimensions)"
   ]
  },
  {
   "cell_type": "code",
   "execution_count": 3,
   "id": "74781ecb-98bd-4607-9c1a-ea25365834b4",
   "metadata": {},
   "outputs": [
    {
     "data": {
      "text/plain": [
       "52"
      ]
     },
     "execution_count": 3,
     "metadata": {},
     "output_type": "execute_result"
    }
   ],
   "source": [
    "# Showing how Tuples are Immutable\n",
    "dimensions[0]"
   ]
  },
  {
   "cell_type": "code",
   "execution_count": 6,
   "id": "f9674f90-1bc4-4594-8af0-cf9ad678a87a",
   "metadata": {},
   "outputs": [
    {
     "ename": "TypeError",
     "evalue": "'tuple' object does not support item assignment",
     "output_type": "error",
     "traceback": [
      "\u001b[1;31m---------------------------------------------------------------------------\u001b[0m",
      "\u001b[1;31mTypeError\u001b[0m                                 Traceback (most recent call last)",
      "\u001b[1;32m~\\AppData\\Local\\Temp/ipykernel_10056/238433276.py\u001b[0m in \u001b[0;36m<module>\u001b[1;34m\u001b[0m\n\u001b[0;32m      1\u001b[0m \u001b[1;31m# This code fails with an error since tuples are immutable\u001b[0m\u001b[1;33m\u001b[0m\u001b[1;33m\u001b[0m\u001b[0m\n\u001b[1;32m----> 2\u001b[1;33m \u001b[0mdimensions\u001b[0m\u001b[1;33m[\u001b[0m\u001b[1;36m0\u001b[0m\u001b[1;33m]\u001b[0m\u001b[1;33m=\u001b[0m\u001b[1;36m23\u001b[0m\u001b[1;33m\u001b[0m\u001b[1;33m\u001b[0m\u001b[0m\n\u001b[0m",
      "\u001b[1;31mTypeError\u001b[0m: 'tuple' object does not support item assignment"
     ]
    }
   ],
   "source": [
    "# This code fails with an error since tuples are immutable\n",
    "dimensions[0]=23"
   ]
  },
  {
   "cell_type": "code",
   "execution_count": 8,
   "id": "52c8d18b-077b-48d7-94ad-74dc5188cf6b",
   "metadata": {},
   "outputs": [
    {
     "name": "stdout",
     "output_type": "stream",
     "text": [
      "The dimensions for the cube are as follows 52, 40, 100\n"
     ]
    }
   ],
   "source": [
    "print(\"The dimensions for the cube are as follows {}, {}, {}\".format(lenght, width, height))"
   ]
  },
  {
   "cell_type": "code",
   "execution_count": 9,
   "id": "153f5ac8-7aad-4744-8780-e8b368beb02a",
   "metadata": {},
   "outputs": [],
   "source": [
    "# Tuples can be declared in two ways either as \n",
    "my_tuple = 1, 2, 3, 4\n",
    "my_tuple = (1, 2, 3, 4)"
   ]
  },
  {
   "cell_type": "code",
   "execution_count": 10,
   "id": "67bd49de-feb5-4df3-adf2-290664eb7886",
   "metadata": {},
   "outputs": [
    {
     "data": {
      "text/plain": [
       "tuple"
      ]
     },
     "execution_count": 10,
     "metadata": {},
     "output_type": "execute_result"
    }
   ],
   "source": [
    "type(my_tuple)"
   ]
  },
  {
   "cell_type": "markdown",
   "id": "2ea37295-91de-4800-81fb-d82cb495d9f7",
   "metadata": {},
   "source": [
    "### Sets Data Structure"
   ]
  },
  {
   "cell_type": "code",
   "execution_count": 11,
   "id": "278ab916-bb66-402e-9ee6-2953e403427e",
   "metadata": {},
   "outputs": [],
   "source": [
    "# A set is a mutable collection of unique collections\n",
    "numbers = [1, 2, 3, 43, 4, 23, 23]\n",
    "numbers_set = set(numbers)"
   ]
  },
  {
   "cell_type": "code",
   "execution_count": 18,
   "id": "ee373242-d64d-4517-a6da-26450b885f35",
   "metadata": {},
   "outputs": [
    {
     "data": {
      "text/plain": [
       "{1, 2, 3, 4, 23, 43}"
      ]
     },
     "execution_count": 18,
     "metadata": {},
     "output_type": "execute_result"
    }
   ],
   "source": [
    "numbers_set"
   ]
  },
  {
   "cell_type": "code",
   "execution_count": 19,
   "id": "440cbeb9-c199-4513-a589-09b3ec5720fe",
   "metadata": {},
   "outputs": [],
   "source": [
    "numbers_set.add(11)"
   ]
  },
  {
   "cell_type": "code",
   "execution_count": 20,
   "id": "3a0327f5-831c-40fa-bf9d-d24794d64c6f",
   "metadata": {},
   "outputs": [
    {
     "data": {
      "text/plain": [
       "{1, 2, 3, 4, 11, 23, 43}"
      ]
     },
     "execution_count": 20,
     "metadata": {},
     "output_type": "execute_result"
    }
   ],
   "source": [
    "numbers_set"
   ]
  },
  {
   "cell_type": "code",
   "execution_count": 21,
   "id": "c422142e-c37f-4856-bada-e6a6ba3350c3",
   "metadata": {},
   "outputs": [
    {
     "data": {
      "text/plain": [
       "2"
      ]
     },
     "execution_count": 21,
     "metadata": {},
     "output_type": "execute_result"
    }
   ],
   "source": [
    "numbers_set.pop()"
   ]
  },
  {
   "cell_type": "code",
   "execution_count": 22,
   "id": "527868d9-8c96-4a98-8768-f7a9898e9d8e",
   "metadata": {},
   "outputs": [
    {
     "data": {
      "text/plain": [
       "{1, 3, 4, 11, 23, 43}"
      ]
     },
     "execution_count": 22,
     "metadata": {},
     "output_type": "execute_result"
    }
   ],
   "source": [
    "numbers_set"
   ]
  },
  {
   "cell_type": "code",
   "execution_count": 23,
   "id": "0e052aef-59af-46aa-8ab0-c16b867dfac0",
   "metadata": {},
   "outputs": [
    {
     "data": {
      "text/plain": [
       "3"
      ]
     },
     "execution_count": 23,
     "metadata": {},
     "output_type": "execute_result"
    }
   ],
   "source": [
    "numbers_set.pop()"
   ]
  },
  {
   "cell_type": "markdown",
   "id": "d04fed41-3089-41a7-bd5f-0de157d1955f",
   "metadata": {},
   "source": [
    "### Dictionaries Data Structures"
   ]
  },
  {
   "cell_type": "code",
   "execution_count": 24,
   "id": "67b85c30-bf53-42e7-9898-317e07b9ceaf",
   "metadata": {},
   "outputs": [],
   "source": [
    "# Dictionaries can have any keys\n",
    "population = {\"Shanghai\": 17.8, \"Istanbul\": 13.3, \"Karachi\": 13.0, \"Mumbai\": 12.5}"
   ]
  },
  {
   "cell_type": "code",
   "execution_count": 25,
   "id": "dfabf5c3-ff35-4f21-a8ac-6a21727ce302",
   "metadata": {},
   "outputs": [
    {
     "data": {
      "text/plain": [
       "{'Shanghai': 17.8, 'Istanbul': 13.3, 'Karachi': 13.0, 'Mumbai': 12.5}"
      ]
     },
     "execution_count": 25,
     "metadata": {},
     "output_type": "execute_result"
    }
   ],
   "source": [
    "population"
   ]
  },
  {
   "cell_type": "code",
   "execution_count": 26,
   "id": "6287b37c-34c1-45d0-9206-397905ac2a06",
   "metadata": {},
   "outputs": [
    {
     "data": {
      "text/plain": [
       "'Country not found in the List'"
      ]
     },
     "execution_count": 26,
     "metadata": {},
     "output_type": "execute_result"
    }
   ],
   "source": [
    "population.get(\"Kenya\", \"Country not found in the List\")"
   ]
  },
  {
   "cell_type": "code",
   "execution_count": 27,
   "id": "dfbec117-9157-4ddc-a768-53c6f826c4d9",
   "metadata": {},
   "outputs": [
    {
     "data": {
      "text/plain": [
       "False"
      ]
     },
     "execution_count": 27,
     "metadata": {},
     "output_type": "execute_result"
    }
   ],
   "source": [
    "\"Kenya\" in population"
   ]
  },
  {
   "cell_type": "code",
   "execution_count": 28,
   "id": "d8e91adc-b087-444e-a435-4714eb05dcd7",
   "metadata": {},
   "outputs": [],
   "source": [
    "# The dogs question\n",
    "animals = {'dogs': [20, 10, 15, 8, 32, 15], 'cats': [3,4,2,8,2,4], 'rabbits': [2, 3, 3], 'fish': [0.3, 0.5, 0.8, 0.3, 1]}"
   ]
  },
  {
   "cell_type": "code",
   "execution_count": 29,
   "id": "4721de64-0936-43c6-8a45-ccb81fafc17a",
   "metadata": {},
   "outputs": [
    {
     "data": {
      "text/plain": [
       "{'dogs': [20, 10, 15, 8, 32, 15],\n",
       " 'cats': [3, 4, 2, 8, 2, 4],\n",
       " 'rabbits': [2, 3, 3],\n",
       " 'fish': [0.3, 0.5, 0.8, 0.3, 1]}"
      ]
     },
     "execution_count": 29,
     "metadata": {},
     "output_type": "execute_result"
    }
   ],
   "source": [
    "animals"
   ]
  },
  {
   "cell_type": "code",
   "execution_count": 31,
   "id": "2d2be28c-3a37-40b7-967e-b480b877f0c2",
   "metadata": {},
   "outputs": [],
   "source": [
    "# Stock values for VNIX (Vanguard Institutional Index Fund)\n",
    "VINIX =  {'C': 0.74, 'MA': 0.78, 'BA': 0.79, 'PG': 0.85, 'CSCO': 0.88, 'VZ': 0.9, 'PFE': 0.92, 'HD': 0.97, 'INTC': 1.0, 'T': 1.01, 'V': 1.02, 'UNH': 1.02, 'WFC': 1.05, 'CVX': 1.05, 'BAC': 1.15, 'JNJ': 1.41, 'GOOGL': 1.46, 'GOOG': 1.47, 'BRK.B': 1.5, 'XOM': 1.52, 'JPM': 1.53, 'FB': 2.02, 'AMZN': 2.96, 'MSFT': 3.28, 'AAPL': 3.94}"
   ]
  },
  {
   "cell_type": "code",
   "execution_count": 32,
   "id": "6b40da30-b266-475a-8b97-ba22a907aadf",
   "metadata": {},
   "outputs": [
    {
     "data": {
      "text/plain": [
       "{'C': 0.74,\n",
       " 'MA': 0.78,\n",
       " 'BA': 0.79,\n",
       " 'PG': 0.85,\n",
       " 'CSCO': 0.88,\n",
       " 'VZ': 0.9,\n",
       " 'PFE': 0.92,\n",
       " 'HD': 0.97,\n",
       " 'INTC': 1.0,\n",
       " 'T': 1.01,\n",
       " 'V': 1.02,\n",
       " 'UNH': 1.02,\n",
       " 'WFC': 1.05,\n",
       " 'CVX': 1.05,\n",
       " 'BAC': 1.15,\n",
       " 'JNJ': 1.41,\n",
       " 'GOOGL': 1.46,\n",
       " 'GOOG': 1.47,\n",
       " 'BRK.B': 1.5,\n",
       " 'XOM': 1.52,\n",
       " 'JPM': 1.53,\n",
       " 'FB': 2.02,\n",
       " 'AMZN': 2.96,\n",
       " 'MSFT': 3.28,\n",
       " 'AAPL': 3.94}"
      ]
     },
     "execution_count": 32,
     "metadata": {},
     "output_type": "execute_result"
    }
   ],
   "source": [
    "VINIX"
   ]
  },
  {
   "cell_type": "code",
   "execution_count": 34,
   "id": "9755b680-3555-44da-abee-c3761e0456b5",
   "metadata": {},
   "outputs": [],
   "source": [
    "elements = {'hydrogen': {'number': 1, 'weight': 1.00794, 'symbol': 'H'},\n",
    "            'helium': {'number': 2, 'weight': 4.002602, 'symbol': 'He'}}"
   ]
  },
  {
   "cell_type": "code",
   "execution_count": 35,
   "id": "8dd3ed7e-49d3-4f5d-ad1d-061a6e444ba5",
   "metadata": {},
   "outputs": [
    {
     "data": {
      "text/plain": [
       "{'hydrogen': {'number': 1, 'weight': 1.00794, 'symbol': 'H'},\n",
       " 'helium': {'number': 2, 'weight': 4.002602, 'symbol': 'He'}}"
      ]
     },
     "execution_count": 35,
     "metadata": {},
     "output_type": "execute_result"
    }
   ],
   "source": [
    "elements"
   ]
  },
  {
   "cell_type": "code",
   "execution_count": 36,
   "id": "3c7e1b49-4110-4449-9d5e-6b338391f9f8",
   "metadata": {},
   "outputs": [],
   "source": [
    "# Compound data structures"
   ]
  },
  {
   "cell_type": "code",
   "execution_count": 38,
   "id": "ce414036-191f-48ad-b4ee-29fa93506813",
   "metadata": {},
   "outputs": [
    {
     "data": {
      "text/plain": [
       "{'hydrogen': {'number': 1,\n",
       "  'weight': 1.00794,\n",
       "  'symbol': 'H',\n",
       "  'is_noble_gas': False},\n",
       " 'helium': {'number': 2,\n",
       "  'weight': 4.002602,\n",
       "  'symbol': 'He',\n",
       "  'is_noble_gas': True}}"
      ]
     },
     "execution_count": 38,
     "metadata": {},
     "output_type": "execute_result"
    }
   ],
   "source": [
    "elements[\"hydrogen\"][\"is_noble_gas\"] = False\n",
    "elements[\"helium\"][\"is_noble_gas\"] = True\n",
    "elements"
   ]
  },
  {
   "cell_type": "code",
   "execution_count": null,
   "id": "6d784418-7289-4424-92cc-5f7ea5d3820f",
   "metadata": {},
   "outputs": [],
   "source": []
  }
 ],
 "metadata": {
  "kernelspec": {
   "display_name": "Python 3 (ipykernel)",
   "language": "python",
   "name": "python3"
  },
  "language_info": {
   "codemirror_mode": {
    "name": "ipython",
    "version": 3
   },
   "file_extension": ".py",
   "mimetype": "text/x-python",
   "name": "python",
   "nbconvert_exporter": "python",
   "pygments_lexer": "ipython3",
   "version": "3.9.7"
  }
 },
 "nbformat": 4,
 "nbformat_minor": 5
}
