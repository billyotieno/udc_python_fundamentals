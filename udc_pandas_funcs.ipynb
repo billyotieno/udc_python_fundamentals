{
 "cells": [
  {
   "cell_type": "code",
   "execution_count": 1,
   "outputs": [],
   "source": [
    "import pandas as pd"
   ],
   "metadata": {
    "collapsed": false,
    "pycharm": {
     "name": "#%%\n"
    }
   }
  },
  {
   "cell_type": "code",
   "execution_count": 3,
   "outputs": [],
   "source": [
    "import numpy as np\n",
    "import seaborn as sns\n",
    "import matplotlib.pyplot as plt\n",
    "import time\n",
    "import random\n",
    "import sys"
   ],
   "metadata": {
    "collapsed": false,
    "pycharm": {
     "name": "#%%\n"
    }
   }
  },
  {
   "cell_type": "code",
   "execution_count": 4,
   "outputs": [],
   "source": [
    "# We create a pandas Series that stores a grocery list\n",
    "groceries = pd.Series(data = [30, 6, 'Yes', 'No'], index = ['eggs', 'apples', 'milk', 'bread'])"
   ],
   "metadata": {
    "collapsed": false,
    "pycharm": {
     "name": "#%%\n"
    }
   }
  },
  {
   "cell_type": "code",
   "execution_count": 5,
   "outputs": [
    {
     "data": {
      "text/plain": "eggs       30\napples      6\nmilk      Yes\nbread      No\ndtype: object"
     },
     "execution_count": 5,
     "metadata": {},
     "output_type": "execute_result"
    }
   ],
   "source": [
    "groceries"
   ],
   "metadata": {
    "collapsed": false,
    "pycharm": {
     "name": "#%%\n"
    }
   }
  },
  {
   "cell_type": "code",
   "execution_count": 6,
   "outputs": [
    {
     "data": {
      "text/plain": "30"
     },
     "execution_count": 6,
     "metadata": {},
     "output_type": "execute_result"
    }
   ],
   "source": [
    "groceries[\"eggs\"]"
   ],
   "metadata": {
    "collapsed": false,
    "pycharm": {
     "name": "#%%\n"
    }
   }
  },
  {
   "cell_type": "code",
   "execution_count": 10,
   "outputs": [
    {
     "name": "stdout",
     "output_type": "stream",
     "text": [
      "The shape of the groceries Series datastructure:  (4,)\n",
      "Number of dimension of the groceries Series datastructure:  1\n",
      "The size of the groceries Series datastructures:  4\n"
     ]
    }
   ],
   "source": [
    "# Series - print attributes - shape, ndim and size\n",
    "print(\"The shape of the groceries Series datastructure: \", groceries.shape)\n",
    "print(\"Number of dimension of the groceries Series datastructure: \", groceries.ndim)\n",
    "print(\"The size of the groceries Series datastructures: \", groceries.size)"
   ],
   "metadata": {
    "collapsed": false,
    "pycharm": {
     "name": "#%%\n"
    }
   }
  },
  {
   "cell_type": "code",
   "execution_count": 11,
   "outputs": [
    {
     "name": "stdout",
     "output_type": "stream",
     "text": [
      "[30 6 'Yes' 'No']\n"
     ]
    }
   ],
   "source": [
    "# Value\n",
    "print(groceries.values)"
   ],
   "metadata": {
    "collapsed": false,
    "pycharm": {
     "name": "#%%\n"
    }
   }
  },
  {
   "cell_type": "code",
   "execution_count": 12,
   "outputs": [
    {
     "name": "stdout",
     "output_type": "stream",
     "text": [
      "Index(['eggs', 'apples', 'milk', 'bread'], dtype='object')\n"
     ]
    }
   ],
   "source": [
    "# Indices\n",
    "print(groceries.index)"
   ],
   "metadata": {
    "collapsed": false,
    "pycharm": {
     "name": "#%%\n"
    }
   }
  },
  {
   "cell_type": "code",
   "execution_count": 13,
   "outputs": [],
   "source": [
    "# Check if value exists in a Series\n",
    "y = 'bananas'  in groceries"
   ],
   "metadata": {
    "collapsed": false,
    "pycharm": {
     "name": "#%%\n"
    }
   }
  },
  {
   "cell_type": "code",
   "execution_count": 14,
   "outputs": [
    {
     "data": {
      "text/plain": "False"
     },
     "execution_count": 14,
     "metadata": {},
     "output_type": "execute_result"
    }
   ],
   "source": [
    "y"
   ],
   "metadata": {
    "collapsed": false,
    "pycharm": {
     "name": "#%%\n"
    }
   }
  },
  {
   "cell_type": "code",
   "execution_count": 15,
   "outputs": [
    {
     "data": {
      "text/plain": "eggs       30\napples      6\nmilk      Yes\nbread      No\ndtype: object"
     },
     "execution_count": 15,
     "metadata": {},
     "output_type": "execute_result"
    }
   ],
   "source": [
    "groceries"
   ],
   "metadata": {
    "collapsed": false,
    "pycharm": {
     "name": "#%%\n"
    }
   }
  },
  {
   "cell_type": "code",
   "execution_count": 16,
   "outputs": [
    {
     "data": {
      "text/plain": "eggs      30\napples     6\ndtype: object"
     },
     "execution_count": 16,
     "metadata": {},
     "output_type": "execute_result"
    }
   ],
   "source": [
    "groceries[[0,1]]"
   ],
   "metadata": {
    "collapsed": false,
    "pycharm": {
     "name": "#%%\n"
    }
   }
  },
  {
   "cell_type": "code",
   "execution_count": 19,
   "outputs": [
    {
     "data": {
      "text/plain": "apples     6\neggs      30\ndtype: object"
     },
     "execution_count": 19,
     "metadata": {},
     "output_type": "execute_result"
    }
   ],
   "source": [
    "groceries.iloc[[1,0]]"
   ],
   "metadata": {
    "collapsed": false,
    "pycharm": {
     "name": "#%%\n"
    }
   }
  },
  {
   "cell_type": "code",
   "execution_count": 20,
   "outputs": [
    {
     "data": {
      "text/plain": "eggs      30\napples     6\ndtype: object"
     },
     "execution_count": 20,
     "metadata": {},
     "output_type": "execute_result"
    }
   ],
   "source": [
    "groceries.loc[[\"eggs\",\"apples\"]]"
   ],
   "metadata": {
    "collapsed": false,
    "pycharm": {
     "name": "#%%\n"
    }
   }
  },
  {
   "cell_type": "code",
   "execution_count": 21,
   "outputs": [
    {
     "data": {
      "text/plain": "eggs      30\nmilk     Yes\nbread     No\ndtype: object"
     },
     "execution_count": 21,
     "metadata": {},
     "output_type": "execute_result"
    }
   ],
   "source": [
    "# dropping values\n",
    "groceries.drop(\"apples\")"
   ],
   "metadata": {
    "collapsed": false,
    "pycharm": {
     "name": "#%%\n"
    }
   }
  },
  {
   "cell_type": "code",
   "execution_count": 22,
   "outputs": [
    {
     "data": {
      "text/plain": "eggs       30\napples      6\nmilk      Yes\nbread      No\ndtype: object"
     },
     "execution_count": 22,
     "metadata": {},
     "output_type": "execute_result"
    }
   ],
   "source": [
    "groceries"
   ],
   "metadata": {
    "collapsed": false,
    "pycharm": {
     "name": "#%%\n"
    }
   }
  },
  {
   "cell_type": "code",
   "execution_count": 23,
   "outputs": [],
   "source": [
    "groceries.drop(\"apples\", inplace=True)"
   ],
   "metadata": {
    "collapsed": false,
    "pycharm": {
     "name": "#%%\n"
    }
   }
  },
  {
   "cell_type": "code",
   "execution_count": 24,
   "outputs": [
    {
     "data": {
      "text/plain": "eggs      30\nmilk     Yes\nbread     No\ndtype: object"
     },
     "execution_count": 24,
     "metadata": {},
     "output_type": "execute_result"
    }
   ],
   "source": [
    "groceries"
   ],
   "metadata": {
    "collapsed": false,
    "pycharm": {
     "name": "#%%\n"
    }
   }
  },
  {
   "cell_type": "code",
   "execution_count": 25,
   "outputs": [],
   "source": [
    "# Arithmetic operations in series"
   ],
   "metadata": {
    "collapsed": false,
    "pycharm": {
     "name": "#%%\n"
    }
   }
  },
  {
   "cell_type": "code",
   "execution_count": 26,
   "outputs": [],
   "source": [
    "fruits= pd.Series(data = [10, 6, 3,], index = ['apples', 'oranges', 'bananas'])"
   ],
   "metadata": {
    "collapsed": false,
    "pycharm": {
     "name": "#%%\n"
    }
   }
  },
  {
   "cell_type": "code",
   "execution_count": 27,
   "outputs": [
    {
     "data": {
      "text/plain": "apples     10\noranges     6\nbananas     3\ndtype: int64"
     },
     "execution_count": 27,
     "metadata": {},
     "output_type": "execute_result"
    }
   ],
   "source": [
    "fruits"
   ],
   "metadata": {
    "collapsed": false,
    "pycharm": {
     "name": "#%%\n"
    }
   }
  },
  {
   "cell_type": "code",
   "execution_count": 30,
   "outputs": [
    {
     "name": "stdout",
     "output_type": "stream",
     "text": [
      "[10  6  3]\n"
     ]
    }
   ],
   "source": [
    "print(fruits.values)"
   ],
   "metadata": {
    "collapsed": false,
    "pycharm": {
     "name": "#%%\n"
    }
   }
  },
  {
   "cell_type": "code",
   "execution_count": 29,
   "outputs": [
    {
     "data": {
      "text/plain": "Index(['apples', 'oranges', 'bananas'], dtype='object')"
     },
     "execution_count": 29,
     "metadata": {},
     "output_type": "execute_result"
    }
   ],
   "source": [
    "fruits.index"
   ],
   "metadata": {
    "collapsed": false,
    "pycharm": {
     "name": "#%%\n"
    }
   }
  },
  {
   "cell_type": "code",
   "execution_count": 31,
   "outputs": [
    {
     "data": {
      "text/plain": "apples     12\noranges     8\nbananas     5\ndtype: int64"
     },
     "execution_count": 31,
     "metadata": {},
     "output_type": "execute_result"
    }
   ],
   "source": [
    "fruits + 2"
   ],
   "metadata": {
    "collapsed": false,
    "pycharm": {
     "name": "#%%\n"
    }
   }
  },
  {
   "cell_type": "code",
   "execution_count": 33,
   "outputs": [],
   "source": [
    "fruits = fruits + 2"
   ],
   "metadata": {
    "collapsed": false,
    "pycharm": {
     "name": "#%%\n"
    }
   }
  },
  {
   "cell_type": "code",
   "execution_count": 34,
   "outputs": [
    {
     "name": "stdout",
     "output_type": "stream",
     "text": [
      "apples     12\n",
      "oranges     8\n",
      "bananas     5\n",
      "dtype: int64\n"
     ]
    }
   ],
   "source": [
    "print(fruits)"
   ],
   "metadata": {
    "collapsed": false,
    "pycharm": {
     "name": "#%%\n"
    }
   }
  },
  {
   "cell_type": "code",
   "execution_count": 35,
   "outputs": [
    {
     "name": "stdout",
     "output_type": "stream",
     "text": [
      "apples     162754.791419\n",
      "oranges      2980.957987\n",
      "bananas       148.413159\n",
      "dtype: float64\n"
     ]
    }
   ],
   "source": [
    "print(np.exp(fruits))"
   ],
   "metadata": {
    "collapsed": false,
    "pycharm": {
     "name": "#%%\n"
    }
   }
  },
  {
   "cell_type": "code",
   "execution_count": 36,
   "outputs": [
    {
     "name": "stdout",
     "output_type": "stream",
     "text": [
      "apples     3.464102\n",
      "oranges    2.828427\n",
      "bananas    2.236068\n",
      "dtype: float64\n"
     ]
    }
   ],
   "source": [
    "print(np.sqrt(fruits))"
   ],
   "metadata": {
    "collapsed": false,
    "pycharm": {
     "name": "#%%\n"
    }
   }
  },
  {
   "cell_type": "code",
   "execution_count": 37,
   "outputs": [
    {
     "name": "stdout",
     "output_type": "stream",
     "text": [
      "apples     1728\n",
      "oranges     512\n",
      "bananas     125\n",
      "dtype: int64\n"
     ]
    }
   ],
   "source": [
    "print(np.power(fruits, 3))"
   ],
   "metadata": {
    "collapsed": false,
    "pycharm": {
     "name": "#%%\n"
    }
   }
  },
  {
   "cell_type": "code",
   "execution_count": 38,
   "outputs": [],
   "source": [
    "series_with_mixed_val = pd.Series(data=[1,2,\"apple\",\"banana\"])"
   ],
   "metadata": {
    "collapsed": false,
    "pycharm": {
     "name": "#%%\n"
    }
   }
  },
  {
   "cell_type": "code",
   "execution_count": 39,
   "outputs": [
    {
     "data": {
      "text/plain": "0         1\n1         2\n2     apple\n3    banana\ndtype: object"
     },
     "execution_count": 39,
     "metadata": {},
     "output_type": "execute_result"
    }
   ],
   "source": [
    "series_with_mixed_val"
   ],
   "metadata": {
    "collapsed": false,
    "pycharm": {
     "name": "#%%\n"
    }
   }
  },
  {
   "cell_type": "code",
   "execution_count": 40,
   "outputs": [],
   "source": [
    "series_with_mixed_val = series_with_mixed_val * 2"
   ],
   "metadata": {
    "collapsed": false,
    "pycharm": {
     "name": "#%%\n"
    }
   }
  },
  {
   "cell_type": "code",
   "execution_count": 42,
   "outputs": [
    {
     "data": {
      "text/plain": "0               2\n1               4\n2      appleapple\n3    bananabanana\ndtype: object"
     },
     "execution_count": 42,
     "metadata": {},
     "output_type": "execute_result"
    }
   ],
   "source": [
    "# From the output of this series the str values are doubled (as per expected behavior)\n",
    "series_with_mixed_val"
   ],
   "metadata": {
    "collapsed": false,
    "pycharm": {
     "name": "#%%\n"
    }
   }
  },
  {
   "cell_type": "code",
   "execution_count": 43,
   "outputs": [
    {
     "name": "stdout",
     "output_type": "stream",
     "text": [
      "<class 'dict'>\n"
     ]
    }
   ],
   "source": [
    "# We import pandas as pd into Python\n",
    "import pandas as pd\n",
    "\n",
    "# We create a dictionary of pandas Series\n",
    "items = {'Bob' : pd.Series(data = [245, 25, 55], index = ['bike', 'pants', 'watch']),\n",
    "         'Alice' : pd.Series(data = [40, 110, 500, 45], index = ['book', 'glasses', 'bike', 'pants'])}\n",
    "\n",
    "# We print the type of items to see that it is a dictionary\n",
    "print(type(items))"
   ],
   "metadata": {
    "collapsed": false,
    "pycharm": {
     "name": "#%%\n"
    }
   }
  },
  {
   "cell_type": "code",
   "execution_count": 47,
   "outputs": [],
   "source": [
    "items = pd.DataFrame(items)"
   ],
   "metadata": {
    "collapsed": false,
    "pycharm": {
     "name": "#%%\n"
    }
   }
  },
  {
   "cell_type": "code",
   "execution_count": 48,
   "outputs": [
    {
     "data": {
      "text/plain": "           Bob  Alice\nbike     245.0  500.0\nbook       NaN   40.0\nglasses    NaN  110.0\npants     25.0   45.0\nwatch     55.0    NaN",
      "text/html": "<div>\n<style scoped>\n    .dataframe tbody tr th:only-of-type {\n        vertical-align: middle;\n    }\n\n    .dataframe tbody tr th {\n        vertical-align: top;\n    }\n\n    .dataframe thead th {\n        text-align: right;\n    }\n</style>\n<table border=\"1\" class=\"dataframe\">\n  <thead>\n    <tr style=\"text-align: right;\">\n      <th></th>\n      <th>Bob</th>\n      <th>Alice</th>\n    </tr>\n  </thead>\n  <tbody>\n    <tr>\n      <th>bike</th>\n      <td>245.0</td>\n      <td>500.0</td>\n    </tr>\n    <tr>\n      <th>book</th>\n      <td>NaN</td>\n      <td>40.0</td>\n    </tr>\n    <tr>\n      <th>glasses</th>\n      <td>NaN</td>\n      <td>110.0</td>\n    </tr>\n    <tr>\n      <th>pants</th>\n      <td>25.0</td>\n      <td>45.0</td>\n    </tr>\n    <tr>\n      <th>watch</th>\n      <td>55.0</td>\n      <td>NaN</td>\n    </tr>\n  </tbody>\n</table>\n</div>"
     },
     "execution_count": 48,
     "metadata": {},
     "output_type": "execute_result"
    }
   ],
   "source": [
    "items"
   ],
   "metadata": {
    "collapsed": false,
    "pycharm": {
     "name": "#%%\n"
    }
   }
  },
  {
   "cell_type": "code",
   "execution_count": 50,
   "outputs": [],
   "source": [
    "data = {'Bob' : pd.Series([245, 25, 55]),\n",
    "        'Alice' : pd.Series([40, 110, 500, 45])}"
   ],
   "metadata": {
    "collapsed": false,
    "pycharm": {
     "name": "#%%\n"
    }
   }
  },
  {
   "cell_type": "code",
   "execution_count": 51,
   "outputs": [],
   "source": [
    "df = pd.DataFrame(data)"
   ],
   "metadata": {
    "collapsed": false,
    "pycharm": {
     "name": "#%%\n"
    }
   }
  },
  {
   "cell_type": "code",
   "execution_count": 52,
   "outputs": [
    {
     "data": {
      "text/plain": "     Bob  Alice\n0  245.0     40\n1   25.0    110\n2   55.0    500\n3    NaN     45",
      "text/html": "<div>\n<style scoped>\n    .dataframe tbody tr th:only-of-type {\n        vertical-align: middle;\n    }\n\n    .dataframe tbody tr th {\n        vertical-align: top;\n    }\n\n    .dataframe thead th {\n        text-align: right;\n    }\n</style>\n<table border=\"1\" class=\"dataframe\">\n  <thead>\n    <tr style=\"text-align: right;\">\n      <th></th>\n      <th>Bob</th>\n      <th>Alice</th>\n    </tr>\n  </thead>\n  <tbody>\n    <tr>\n      <th>0</th>\n      <td>245.0</td>\n      <td>40</td>\n    </tr>\n    <tr>\n      <th>1</th>\n      <td>25.0</td>\n      <td>110</td>\n    </tr>\n    <tr>\n      <th>2</th>\n      <td>55.0</td>\n      <td>500</td>\n    </tr>\n    <tr>\n      <th>3</th>\n      <td>NaN</td>\n      <td>45</td>\n    </tr>\n  </tbody>\n</table>\n</div>"
     },
     "execution_count": 52,
     "metadata": {},
     "output_type": "execute_result"
    }
   ],
   "source": [
    "df.head()"
   ],
   "metadata": {
    "collapsed": false,
    "pycharm": {
     "name": "#%%\n"
    }
   }
  },
  {
   "cell_type": "code",
   "execution_count": 53,
   "outputs": [
    {
     "data": {
      "text/plain": "     Bob  Alice\n0  245.0     40\n1   25.0    110\n2   55.0    500\n3    NaN     45",
      "text/html": "<div>\n<style scoped>\n    .dataframe tbody tr th:only-of-type {\n        vertical-align: middle;\n    }\n\n    .dataframe tbody tr th {\n        vertical-align: top;\n    }\n\n    .dataframe thead th {\n        text-align: right;\n    }\n</style>\n<table border=\"1\" class=\"dataframe\">\n  <thead>\n    <tr style=\"text-align: right;\">\n      <th></th>\n      <th>Bob</th>\n      <th>Alice</th>\n    </tr>\n  </thead>\n  <tbody>\n    <tr>\n      <th>0</th>\n      <td>245.0</td>\n      <td>40</td>\n    </tr>\n    <tr>\n      <th>1</th>\n      <td>25.0</td>\n      <td>110</td>\n    </tr>\n    <tr>\n      <th>2</th>\n      <td>55.0</td>\n      <td>500</td>\n    </tr>\n    <tr>\n      <th>3</th>\n      <td>NaN</td>\n      <td>45</td>\n    </tr>\n  </tbody>\n</table>\n</div>"
     },
     "execution_count": 53,
     "metadata": {},
     "output_type": "execute_result"
    }
   ],
   "source": [
    "df"
   ],
   "metadata": {
    "collapsed": false,
    "pycharm": {
     "name": "#%%\n"
    }
   }
  },
  {
   "cell_type": "code",
   "execution_count": 58,
   "outputs": [
    {
     "name": "stdout",
     "output_type": "stream",
     "text": [
      "Shopping cart has shape (4, 2)\n",
      "2\n",
      "8\n",
      "[[245.  40.]\n",
      " [ 25. 110.]\n",
      " [ 55. 500.]\n",
      " [ nan  45.]]\n",
      "RangeIndex(start=0, stop=4, step=1)\n",
      "Index(['Bob', 'Alice'], dtype='object')\n"
     ]
    }
   ],
   "source": [
    "print(\"Shopping cart has shape\", df.shape)\n",
    "print(df.ndim)\n",
    "print(df.size) # Number of elements\n",
    "print(df.values)\n",
    "print(df.index)\n",
    "print(df.columns)"
   ],
   "metadata": {
    "collapsed": false,
    "pycharm": {
     "name": "#%%\n"
    }
   }
  },
  {
   "cell_type": "code",
   "execution_count": 59,
   "outputs": [],
   "source": [
    "# Accessing values of a dataframe we use - dataframe[column][row]\n",
    "# You can append a dataframe to a data frame using df.append(new_df_name)\n",
    "# dataframe.insert(location, label, data)\n",
    "# store_items.insert(5, 'shoes', data_array)\n",
    "# dataframe POP - store_items.pop('new watches') - Removes column\n",
    "\n",
    "# dataframe.drop(columns_index, axis)\n",
    "# dataframe.drop(row_index, axis)\n",
    "# You can rename columns using df.rename(columns={'original_name':'replacement_name'})\n",
    "# You can also rename the row lables df.rename(index={'original_index_name':'new_index_name'})"
   ],
   "metadata": {
    "collapsed": false,
    "pycharm": {
     "name": "#%%\n"
    }
   }
  },
  {
   "cell_type": "code",
   "execution_count": 60,
   "outputs": [
    {
     "data": {
      "text/plain": "         bikes  pants  goods  socks  bread\nstore_1   20.0   30.0     40     60    NaN\nstore_2    NaN   30.0     40     60   20.0\nstore_3   20.0    NaN     40     60    NaN",
      "text/html": "<div>\n<style scoped>\n    .dataframe tbody tr th:only-of-type {\n        vertical-align: middle;\n    }\n\n    .dataframe tbody tr th {\n        vertical-align: top;\n    }\n\n    .dataframe thead th {\n        text-align: right;\n    }\n</style>\n<table border=\"1\" class=\"dataframe\">\n  <thead>\n    <tr style=\"text-align: right;\">\n      <th></th>\n      <th>bikes</th>\n      <th>pants</th>\n      <th>goods</th>\n      <th>socks</th>\n      <th>bread</th>\n    </tr>\n  </thead>\n  <tbody>\n    <tr>\n      <th>store_1</th>\n      <td>20.0</td>\n      <td>30.0</td>\n      <td>40</td>\n      <td>60</td>\n      <td>NaN</td>\n    </tr>\n    <tr>\n      <th>store_2</th>\n      <td>NaN</td>\n      <td>30.0</td>\n      <td>40</td>\n      <td>60</td>\n      <td>20.0</td>\n    </tr>\n    <tr>\n      <th>store_3</th>\n      <td>20.0</td>\n      <td>NaN</td>\n      <td>40</td>\n      <td>60</td>\n      <td>NaN</td>\n    </tr>\n  </tbody>\n</table>\n</div>"
     },
     "execution_count": 60,
     "metadata": {},
     "output_type": "execute_result"
    }
   ],
   "source": [
    "items = [{'bikes': 20, 'pants': 30, 'goods': 40, 'socks':60}, {'bread': 20, 'pants': 30, 'goods': 40, 'socks':60}, {'bikes': 20, 'socks': 30, 'goods': 40, 'socks':60}]\n",
    "\n",
    "df = pd.DataFrame(index=['store_1', 'store_2', 'store_3'], data=items)\n",
    "df.head()"
   ],
   "metadata": {
    "collapsed": false,
    "pycharm": {
     "name": "#%%\n"
    }
   }
  },
  {
   "cell_type": "code",
   "execution_count": 62,
   "outputs": [
    {
     "data": {
      "text/plain": "bikes    1\npants    1\ngoods    0\nsocks    0\nbread    2\ndtype: int64"
     },
     "execution_count": 62,
     "metadata": {},
     "output_type": "execute_result"
    }
   ],
   "source": [
    "df.isnull().sum()"
   ],
   "metadata": {
    "collapsed": false,
    "pycharm": {
     "name": "#%%\n"
    }
   }
  },
  {
   "cell_type": "code",
   "execution_count": 65,
   "outputs": [
    {
     "data": {
      "text/plain": "         goods  socks\nstore_1     40     60\nstore_2     40     60\nstore_3     40     60",
      "text/html": "<div>\n<style scoped>\n    .dataframe tbody tr th:only-of-type {\n        vertical-align: middle;\n    }\n\n    .dataframe tbody tr th {\n        vertical-align: top;\n    }\n\n    .dataframe thead th {\n        text-align: right;\n    }\n</style>\n<table border=\"1\" class=\"dataframe\">\n  <thead>\n    <tr style=\"text-align: right;\">\n      <th></th>\n      <th>goods</th>\n      <th>socks</th>\n    </tr>\n  </thead>\n  <tbody>\n    <tr>\n      <th>store_1</th>\n      <td>40</td>\n      <td>60</td>\n    </tr>\n    <tr>\n      <th>store_2</th>\n      <td>40</td>\n      <td>60</td>\n    </tr>\n    <tr>\n      <th>store_3</th>\n      <td>40</td>\n      <td>60</td>\n    </tr>\n  </tbody>\n</table>\n</div>"
     },
     "execution_count": 65,
     "metadata": {},
     "output_type": "execute_result"
    }
   ],
   "source": [
    "df.dropna(axis=1) # axis = 0 columns are deleted"
   ],
   "metadata": {
    "collapsed": false,
    "pycharm": {
     "name": "#%%\n"
    }
   }
  },
  {
   "cell_type": "code",
   "execution_count": 66,
   "outputs": [],
   "source": [
    "df = df.fillna(method='ffill', axis=1)"
   ],
   "metadata": {
    "collapsed": false,
    "pycharm": {
     "name": "#%%\n"
    }
   }
  },
  {
   "cell_type": "code",
   "execution_count": 67,
   "outputs": [
    {
     "data": {
      "text/plain": "         bikes  pants  goods  socks  bread\nstore_1   20.0   30.0   40.0   60.0   60.0\nstore_2    NaN   30.0   40.0   60.0   20.0\nstore_3   20.0   20.0   40.0   60.0   60.0",
      "text/html": "<div>\n<style scoped>\n    .dataframe tbody tr th:only-of-type {\n        vertical-align: middle;\n    }\n\n    .dataframe tbody tr th {\n        vertical-align: top;\n    }\n\n    .dataframe thead th {\n        text-align: right;\n    }\n</style>\n<table border=\"1\" class=\"dataframe\">\n  <thead>\n    <tr style=\"text-align: right;\">\n      <th></th>\n      <th>bikes</th>\n      <th>pants</th>\n      <th>goods</th>\n      <th>socks</th>\n      <th>bread</th>\n    </tr>\n  </thead>\n  <tbody>\n    <tr>\n      <th>store_1</th>\n      <td>20.0</td>\n      <td>30.0</td>\n      <td>40.0</td>\n      <td>60.0</td>\n      <td>60.0</td>\n    </tr>\n    <tr>\n      <th>store_2</th>\n      <td>NaN</td>\n      <td>30.0</td>\n      <td>40.0</td>\n      <td>60.0</td>\n      <td>20.0</td>\n    </tr>\n    <tr>\n      <th>store_3</th>\n      <td>20.0</td>\n      <td>20.0</td>\n      <td>40.0</td>\n      <td>60.0</td>\n      <td>60.0</td>\n    </tr>\n  </tbody>\n</table>\n</div>"
     },
     "execution_count": 67,
     "metadata": {},
     "output_type": "execute_result"
    }
   ],
   "source": [
    "df"
   ],
   "metadata": {
    "collapsed": false,
    "pycharm": {
     "name": "#%%\n"
    }
   }
  },
  {
   "cell_type": "code",
   "execution_count": 68,
   "outputs": [],
   "source": [
    "df = df.interpolate(method='linear', axis=1)"
   ],
   "metadata": {
    "collapsed": false,
    "pycharm": {
     "name": "#%%\n"
    }
   }
  },
  {
   "cell_type": "code",
   "execution_count": 69,
   "outputs": [
    {
     "data": {
      "text/plain": "         bikes  pants  goods  socks  bread\nstore_1   20.0   30.0   40.0   60.0   60.0\nstore_2    NaN   30.0   40.0   60.0   20.0\nstore_3   20.0   20.0   40.0   60.0   60.0",
      "text/html": "<div>\n<style scoped>\n    .dataframe tbody tr th:only-of-type {\n        vertical-align: middle;\n    }\n\n    .dataframe tbody tr th {\n        vertical-align: top;\n    }\n\n    .dataframe thead th {\n        text-align: right;\n    }\n</style>\n<table border=\"1\" class=\"dataframe\">\n  <thead>\n    <tr style=\"text-align: right;\">\n      <th></th>\n      <th>bikes</th>\n      <th>pants</th>\n      <th>goods</th>\n      <th>socks</th>\n      <th>bread</th>\n    </tr>\n  </thead>\n  <tbody>\n    <tr>\n      <th>store_1</th>\n      <td>20.0</td>\n      <td>30.0</td>\n      <td>40.0</td>\n      <td>60.0</td>\n      <td>60.0</td>\n    </tr>\n    <tr>\n      <th>store_2</th>\n      <td>NaN</td>\n      <td>30.0</td>\n      <td>40.0</td>\n      <td>60.0</td>\n      <td>20.0</td>\n    </tr>\n    <tr>\n      <th>store_3</th>\n      <td>20.0</td>\n      <td>20.0</td>\n      <td>40.0</td>\n      <td>60.0</td>\n      <td>60.0</td>\n    </tr>\n  </tbody>\n</table>\n</div>"
     },
     "execution_count": 69,
     "metadata": {},
     "output_type": "execute_result"
    }
   ],
   "source": [
    "df"
   ],
   "metadata": {
    "collapsed": false,
    "pycharm": {
     "name": "#%%\n"
    }
   }
  },
  {
   "cell_type": "code",
   "execution_count": 71,
   "outputs": [],
   "source": [
    "items2 = [{'bikes': 20, 'pants': 30, 'watches': 35, 'shirts': 15, 'shoes':8, 'suits':45},\n",
    "{'watches': 10, 'glasses': 50, 'bikes': 15, 'pants':5, 'shirts': 2, 'shoes':5, 'suits':7},\n",
    "{'bikes': 20, 'pants': 30, 'watches': 35, 'glasses': 4, 'shoes':10}]"
   ],
   "metadata": {
    "collapsed": false,
    "pycharm": {
     "name": "#%%\n"
    }
   }
  },
  {
   "cell_type": "code",
   "execution_count": 72,
   "outputs": [],
   "source": [
    "store_items = pd.DataFrame(items2, index = ['store 1', 'store 2', 'store 3'])"
   ],
   "metadata": {
    "collapsed": false,
    "pycharm": {
     "name": "#%%\n"
    }
   }
  },
  {
   "cell_type": "code",
   "execution_count": 73,
   "outputs": [
    {
     "data": {
      "text/plain": "         bikes  pants  watches  shirts  shoes  suits  glasses\nstore 1     20     30       35    15.0      8   45.0      NaN\nstore 2     15      5       10     2.0      5    7.0     50.0\nstore 3     20     30       35     NaN     10    NaN      4.0",
      "text/html": "<div>\n<style scoped>\n    .dataframe tbody tr th:only-of-type {\n        vertical-align: middle;\n    }\n\n    .dataframe tbody tr th {\n        vertical-align: top;\n    }\n\n    .dataframe thead th {\n        text-align: right;\n    }\n</style>\n<table border=\"1\" class=\"dataframe\">\n  <thead>\n    <tr style=\"text-align: right;\">\n      <th></th>\n      <th>bikes</th>\n      <th>pants</th>\n      <th>watches</th>\n      <th>shirts</th>\n      <th>shoes</th>\n      <th>suits</th>\n      <th>glasses</th>\n    </tr>\n  </thead>\n  <tbody>\n    <tr>\n      <th>store 1</th>\n      <td>20</td>\n      <td>30</td>\n      <td>35</td>\n      <td>15.0</td>\n      <td>8</td>\n      <td>45.0</td>\n      <td>NaN</td>\n    </tr>\n    <tr>\n      <th>store 2</th>\n      <td>15</td>\n      <td>5</td>\n      <td>10</td>\n      <td>2.0</td>\n      <td>5</td>\n      <td>7.0</td>\n      <td>50.0</td>\n    </tr>\n    <tr>\n      <th>store 3</th>\n      <td>20</td>\n      <td>30</td>\n      <td>35</td>\n      <td>NaN</td>\n      <td>10</td>\n      <td>NaN</td>\n      <td>4.0</td>\n    </tr>\n  </tbody>\n</table>\n</div>"
     },
     "execution_count": 73,
     "metadata": {},
     "output_type": "execute_result"
    }
   ],
   "source": [
    "store_items"
   ],
   "metadata": {
    "collapsed": false,
    "pycharm": {
     "name": "#%%\n"
    }
   }
  },
  {
   "cell_type": "code",
   "execution_count": 74,
   "outputs": [
    {
     "data": {
      "text/plain": "3"
     },
     "execution_count": 74,
     "metadata": {},
     "output_type": "execute_result"
    }
   ],
   "source": [
    "store_items.isnull().sum().sum()"
   ],
   "metadata": {
    "collapsed": false,
    "pycharm": {
     "name": "#%%\n"
    }
   }
  },
  {
   "cell_type": "code",
   "execution_count": 75,
   "outputs": [
    {
     "data": {
      "text/plain": "         bikes  pants  watches  shirts  shoes  suits  glasses\nstore 1  False  False    False   False  False  False     True\nstore 2  False  False    False   False  False  False    False\nstore 3  False  False    False    True  False   True    False",
      "text/html": "<div>\n<style scoped>\n    .dataframe tbody tr th:only-of-type {\n        vertical-align: middle;\n    }\n\n    .dataframe tbody tr th {\n        vertical-align: top;\n    }\n\n    .dataframe thead th {\n        text-align: right;\n    }\n</style>\n<table border=\"1\" class=\"dataframe\">\n  <thead>\n    <tr style=\"text-align: right;\">\n      <th></th>\n      <th>bikes</th>\n      <th>pants</th>\n      <th>watches</th>\n      <th>shirts</th>\n      <th>shoes</th>\n      <th>suits</th>\n      <th>glasses</th>\n    </tr>\n  </thead>\n  <tbody>\n    <tr>\n      <th>store 1</th>\n      <td>False</td>\n      <td>False</td>\n      <td>False</td>\n      <td>False</td>\n      <td>False</td>\n      <td>False</td>\n      <td>True</td>\n    </tr>\n    <tr>\n      <th>store 2</th>\n      <td>False</td>\n      <td>False</td>\n      <td>False</td>\n      <td>False</td>\n      <td>False</td>\n      <td>False</td>\n      <td>False</td>\n    </tr>\n    <tr>\n      <th>store 3</th>\n      <td>False</td>\n      <td>False</td>\n      <td>False</td>\n      <td>True</td>\n      <td>False</td>\n      <td>True</td>\n      <td>False</td>\n    </tr>\n  </tbody>\n</table>\n</div>"
     },
     "execution_count": 75,
     "metadata": {},
     "output_type": "execute_result"
    }
   ],
   "source": [
    "store_items.isnull()"
   ],
   "metadata": {
    "collapsed": false,
    "pycharm": {
     "name": "#%%\n"
    }
   }
  },
  {
   "cell_type": "code",
   "execution_count": 76,
   "outputs": [
    {
     "data": {
      "text/plain": "bikes      0\npants      0\nwatches    0\nshirts     1\nshoes      0\nsuits      1\nglasses    1\ndtype: int64"
     },
     "execution_count": 76,
     "metadata": {},
     "output_type": "execute_result"
    }
   ],
   "source": [
    "store_items.isnull().sum()"
   ],
   "metadata": {
    "collapsed": false,
    "pycharm": {
     "name": "#%%\n"
    }
   }
  },
  {
   "cell_type": "code",
   "execution_count": 77,
   "outputs": [
    {
     "data": {
      "text/plain": "         bikes  pants  watches  shirts  shoes  suits  glasses\nstore 2     15      5       10     2.0      5    7.0     50.0",
      "text/html": "<div>\n<style scoped>\n    .dataframe tbody tr th:only-of-type {\n        vertical-align: middle;\n    }\n\n    .dataframe tbody tr th {\n        vertical-align: top;\n    }\n\n    .dataframe thead th {\n        text-align: right;\n    }\n</style>\n<table border=\"1\" class=\"dataframe\">\n  <thead>\n    <tr style=\"text-align: right;\">\n      <th></th>\n      <th>bikes</th>\n      <th>pants</th>\n      <th>watches</th>\n      <th>shirts</th>\n      <th>shoes</th>\n      <th>suits</th>\n      <th>glasses</th>\n    </tr>\n  </thead>\n  <tbody>\n    <tr>\n      <th>store 2</th>\n      <td>15</td>\n      <td>5</td>\n      <td>10</td>\n      <td>2.0</td>\n      <td>5</td>\n      <td>7.0</td>\n      <td>50.0</td>\n    </tr>\n  </tbody>\n</table>\n</div>"
     },
     "execution_count": 77,
     "metadata": {},
     "output_type": "execute_result"
    }
   ],
   "source": [
    "# We drop any rows with NaN values\n",
    "store_items.dropna(axis = 0)"
   ],
   "metadata": {
    "collapsed": false,
    "pycharm": {
     "name": "#%%\n"
    }
   }
  },
  {
   "cell_type": "code",
   "execution_count": 78,
   "outputs": [
    {
     "data": {
      "text/plain": "         bikes  pants  watches  shoes\nstore 1     20     30       35      8\nstore 2     15      5       10      5\nstore 3     20     30       35     10",
      "text/html": "<div>\n<style scoped>\n    .dataframe tbody tr th:only-of-type {\n        vertical-align: middle;\n    }\n\n    .dataframe tbody tr th {\n        vertical-align: top;\n    }\n\n    .dataframe thead th {\n        text-align: right;\n    }\n</style>\n<table border=\"1\" class=\"dataframe\">\n  <thead>\n    <tr style=\"text-align: right;\">\n      <th></th>\n      <th>bikes</th>\n      <th>pants</th>\n      <th>watches</th>\n      <th>shoes</th>\n    </tr>\n  </thead>\n  <tbody>\n    <tr>\n      <th>store 1</th>\n      <td>20</td>\n      <td>30</td>\n      <td>35</td>\n      <td>8</td>\n    </tr>\n    <tr>\n      <th>store 2</th>\n      <td>15</td>\n      <td>5</td>\n      <td>10</td>\n      <td>5</td>\n    </tr>\n    <tr>\n      <th>store 3</th>\n      <td>20</td>\n      <td>30</td>\n      <td>35</td>\n      <td>10</td>\n    </tr>\n  </tbody>\n</table>\n</div>"
     },
     "execution_count": 78,
     "metadata": {},
     "output_type": "execute_result"
    }
   ],
   "source": [
    "store_items.dropna(axis=1)"
   ],
   "metadata": {
    "collapsed": false,
    "pycharm": {
     "name": "#%%\n"
    }
   }
  },
  {
   "cell_type": "code",
   "execution_count": 79,
   "outputs": [
    {
     "data": {
      "text/plain": "         bikes  pants  watches  shirts  shoes  suits  glasses\nstore 1     20     30       35    15.0      8   45.0      0.0\nstore 2     15      5       10     2.0      5    7.0     50.0\nstore 3     20     30       35     0.0     10    0.0      4.0",
      "text/html": "<div>\n<style scoped>\n    .dataframe tbody tr th:only-of-type {\n        vertical-align: middle;\n    }\n\n    .dataframe tbody tr th {\n        vertical-align: top;\n    }\n\n    .dataframe thead th {\n        text-align: right;\n    }\n</style>\n<table border=\"1\" class=\"dataframe\">\n  <thead>\n    <tr style=\"text-align: right;\">\n      <th></th>\n      <th>bikes</th>\n      <th>pants</th>\n      <th>watches</th>\n      <th>shirts</th>\n      <th>shoes</th>\n      <th>suits</th>\n      <th>glasses</th>\n    </tr>\n  </thead>\n  <tbody>\n    <tr>\n      <th>store 1</th>\n      <td>20</td>\n      <td>30</td>\n      <td>35</td>\n      <td>15.0</td>\n      <td>8</td>\n      <td>45.0</td>\n      <td>0.0</td>\n    </tr>\n    <tr>\n      <th>store 2</th>\n      <td>15</td>\n      <td>5</td>\n      <td>10</td>\n      <td>2.0</td>\n      <td>5</td>\n      <td>7.0</td>\n      <td>50.0</td>\n    </tr>\n    <tr>\n      <th>store 3</th>\n      <td>20</td>\n      <td>30</td>\n      <td>35</td>\n      <td>0.0</td>\n      <td>10</td>\n      <td>0.0</td>\n      <td>4.0</td>\n    </tr>\n  </tbody>\n</table>\n</div>"
     },
     "execution_count": 79,
     "metadata": {},
     "output_type": "execute_result"
    }
   ],
   "source": [
    "# We replace all NaN values with 0\n",
    "store_items.fillna(0)"
   ],
   "metadata": {
    "collapsed": false,
    "pycharm": {
     "name": "#%%\n"
    }
   }
  },
  {
   "cell_type": "code",
   "execution_count": 80,
   "outputs": [
    {
     "data": {
      "text/plain": "         bikes  pants  watches  shirts  shoes  suits  glasses\nstore 1     20     30       35    15.0      8   45.0      NaN\nstore 2     15      5       10     2.0      5    7.0     50.0\nstore 3     20     30       35     2.0     10    7.0      4.0",
      "text/html": "<div>\n<style scoped>\n    .dataframe tbody tr th:only-of-type {\n        vertical-align: middle;\n    }\n\n    .dataframe tbody tr th {\n        vertical-align: top;\n    }\n\n    .dataframe thead th {\n        text-align: right;\n    }\n</style>\n<table border=\"1\" class=\"dataframe\">\n  <thead>\n    <tr style=\"text-align: right;\">\n      <th></th>\n      <th>bikes</th>\n      <th>pants</th>\n      <th>watches</th>\n      <th>shirts</th>\n      <th>shoes</th>\n      <th>suits</th>\n      <th>glasses</th>\n    </tr>\n  </thead>\n  <tbody>\n    <tr>\n      <th>store 1</th>\n      <td>20</td>\n      <td>30</td>\n      <td>35</td>\n      <td>15.0</td>\n      <td>8</td>\n      <td>45.0</td>\n      <td>NaN</td>\n    </tr>\n    <tr>\n      <th>store 2</th>\n      <td>15</td>\n      <td>5</td>\n      <td>10</td>\n      <td>2.0</td>\n      <td>5</td>\n      <td>7.0</td>\n      <td>50.0</td>\n    </tr>\n    <tr>\n      <th>store 3</th>\n      <td>20</td>\n      <td>30</td>\n      <td>35</td>\n      <td>2.0</td>\n      <td>10</td>\n      <td>7.0</td>\n      <td>4.0</td>\n    </tr>\n  </tbody>\n</table>\n</div>"
     },
     "execution_count": 80,
     "metadata": {},
     "output_type": "execute_result"
    }
   ],
   "source": [
    "# We replace NaN values with the previous value in the column\n",
    "store_items.fillna(method = 'ffill', axis = 0)"
   ],
   "metadata": {
    "collapsed": false,
    "pycharm": {
     "name": "#%%\n"
    }
   }
  },
  {
   "cell_type": "code",
   "execution_count": 81,
   "outputs": [
    {
     "data": {
      "text/plain": "         bikes  pants  watches  shirts  shoes  suits  glasses\nstore 1   20.0   30.0     35.0    15.0    8.0   45.0     45.0\nstore 2   15.0    5.0     10.0     2.0    5.0    7.0     50.0\nstore 3   20.0   30.0     35.0    35.0   10.0   10.0      4.0",
      "text/html": "<div>\n<style scoped>\n    .dataframe tbody tr th:only-of-type {\n        vertical-align: middle;\n    }\n\n    .dataframe tbody tr th {\n        vertical-align: top;\n    }\n\n    .dataframe thead th {\n        text-align: right;\n    }\n</style>\n<table border=\"1\" class=\"dataframe\">\n  <thead>\n    <tr style=\"text-align: right;\">\n      <th></th>\n      <th>bikes</th>\n      <th>pants</th>\n      <th>watches</th>\n      <th>shirts</th>\n      <th>shoes</th>\n      <th>suits</th>\n      <th>glasses</th>\n    </tr>\n  </thead>\n  <tbody>\n    <tr>\n      <th>store 1</th>\n      <td>20.0</td>\n      <td>30.0</td>\n      <td>35.0</td>\n      <td>15.0</td>\n      <td>8.0</td>\n      <td>45.0</td>\n      <td>45.0</td>\n    </tr>\n    <tr>\n      <th>store 2</th>\n      <td>15.0</td>\n      <td>5.0</td>\n      <td>10.0</td>\n      <td>2.0</td>\n      <td>5.0</td>\n      <td>7.0</td>\n      <td>50.0</td>\n    </tr>\n    <tr>\n      <th>store 3</th>\n      <td>20.0</td>\n      <td>30.0</td>\n      <td>35.0</td>\n      <td>35.0</td>\n      <td>10.0</td>\n      <td>10.0</td>\n      <td>4.0</td>\n    </tr>\n  </tbody>\n</table>\n</div>"
     },
     "execution_count": 81,
     "metadata": {},
     "output_type": "execute_result"
    }
   ],
   "source": [
    "# We replace NaN values with the previous value in the row\n",
    "store_items.fillna(method = 'ffill', axis = 1)"
   ],
   "metadata": {
    "collapsed": false,
    "pycharm": {
     "name": "#%%\n"
    }
   }
  },
  {
   "cell_type": "code",
   "execution_count": 82,
   "outputs": [
    {
     "data": {
      "text/plain": "         bikes  pants  watches  shirts  shoes  suits  glasses\nstore 1     20     30       35    15.0      8   45.0     50.0\nstore 2     15      5       10     2.0      5    7.0     50.0\nstore 3     20     30       35     NaN     10    NaN      4.0",
      "text/html": "<div>\n<style scoped>\n    .dataframe tbody tr th:only-of-type {\n        vertical-align: middle;\n    }\n\n    .dataframe tbody tr th {\n        vertical-align: top;\n    }\n\n    .dataframe thead th {\n        text-align: right;\n    }\n</style>\n<table border=\"1\" class=\"dataframe\">\n  <thead>\n    <tr style=\"text-align: right;\">\n      <th></th>\n      <th>bikes</th>\n      <th>pants</th>\n      <th>watches</th>\n      <th>shirts</th>\n      <th>shoes</th>\n      <th>suits</th>\n      <th>glasses</th>\n    </tr>\n  </thead>\n  <tbody>\n    <tr>\n      <th>store 1</th>\n      <td>20</td>\n      <td>30</td>\n      <td>35</td>\n      <td>15.0</td>\n      <td>8</td>\n      <td>45.0</td>\n      <td>50.0</td>\n    </tr>\n    <tr>\n      <th>store 2</th>\n      <td>15</td>\n      <td>5</td>\n      <td>10</td>\n      <td>2.0</td>\n      <td>5</td>\n      <td>7.0</td>\n      <td>50.0</td>\n    </tr>\n    <tr>\n      <th>store 3</th>\n      <td>20</td>\n      <td>30</td>\n      <td>35</td>\n      <td>NaN</td>\n      <td>10</td>\n      <td>NaN</td>\n      <td>4.0</td>\n    </tr>\n  </tbody>\n</table>\n</div>"
     },
     "execution_count": 82,
     "metadata": {},
     "output_type": "execute_result"
    }
   ],
   "source": [
    "# We replace NaN values with the next value in the column\n",
    "store_items.fillna(method = 'backfill', axis = 0)"
   ],
   "metadata": {
    "collapsed": false,
    "pycharm": {
     "name": "#%%\n"
    }
   }
  },
  {
   "cell_type": "code",
   "execution_count": 83,
   "outputs": [
    {
     "data": {
      "text/plain": "         bikes  pants  watches  shirts  shoes  suits  glasses\nstore 1     20     30       35    15.0      8   45.0      NaN\nstore 2     15      5       10     2.0      5    7.0     50.0\nstore 3     20     30       35     2.0     10    7.0      4.0",
      "text/html": "<div>\n<style scoped>\n    .dataframe tbody tr th:only-of-type {\n        vertical-align: middle;\n    }\n\n    .dataframe tbody tr th {\n        vertical-align: top;\n    }\n\n    .dataframe thead th {\n        text-align: right;\n    }\n</style>\n<table border=\"1\" class=\"dataframe\">\n  <thead>\n    <tr style=\"text-align: right;\">\n      <th></th>\n      <th>bikes</th>\n      <th>pants</th>\n      <th>watches</th>\n      <th>shirts</th>\n      <th>shoes</th>\n      <th>suits</th>\n      <th>glasses</th>\n    </tr>\n  </thead>\n  <tbody>\n    <tr>\n      <th>store 1</th>\n      <td>20</td>\n      <td>30</td>\n      <td>35</td>\n      <td>15.0</td>\n      <td>8</td>\n      <td>45.0</td>\n      <td>NaN</td>\n    </tr>\n    <tr>\n      <th>store 2</th>\n      <td>15</td>\n      <td>5</td>\n      <td>10</td>\n      <td>2.0</td>\n      <td>5</td>\n      <td>7.0</td>\n      <td>50.0</td>\n    </tr>\n    <tr>\n      <th>store 3</th>\n      <td>20</td>\n      <td>30</td>\n      <td>35</td>\n      <td>2.0</td>\n      <td>10</td>\n      <td>7.0</td>\n      <td>4.0</td>\n    </tr>\n  </tbody>\n</table>\n</div>"
     },
     "execution_count": 83,
     "metadata": {},
     "output_type": "execute_result"
    }
   ],
   "source": [
    "# We replace NaN values by using linear interpolation using column values\n",
    "store_items.interpolate(method = 'linear', axis = 0)"
   ],
   "metadata": {
    "collapsed": false,
    "pycharm": {
     "name": "#%%\n"
    }
   }
  },
  {
   "cell_type": "code",
   "execution_count": 84,
   "outputs": [],
   "source": [
    "# Setting dataframe precision to 1 decimal place = pd.set_option('precision', 1)"
   ],
   "metadata": {
    "collapsed": false,
    "pycharm": {
     "name": "#%%\n"
    }
   }
  },
  {
   "cell_type": "code",
   "execution_count": 86,
   "outputs": [],
   "source": [
    "import pandas as pd\n",
    "import numpy as np\n",
    "\n",
    "# DO NOT CHANGE THE VARIABLE NAMES\n",
    "\n",
    "# Set the precision of our dataframes to one decimal place.\n",
    "pd.set_option('precision', 1)\n",
    "\n",
    "# Create a Pandas DataFrame that contains the ratings some users have given to a series of books.\n",
    "# The ratings given are in the range from 1 to 5, with 5 being the best score.\n",
    "# The names of the books, the corresponding authors, and the ratings of each user are given below:\n",
    "\n",
    "books = pd.Series(data = ['Great Expectations', 'Of Mice and Men', 'Romeo and Juliet', 'The Time Machine', 'Alice in Wonderland' ])\n",
    "authors = pd.Series(data = ['Charles Dickens', 'John Steinbeck', 'William Shakespeare', ' H. G. Wells', 'Lewis Carroll' ])\n",
    "\n",
    "# User ratings are in the order of the book titles mentioned above\n",
    "# If a user has not rated all books, Pandas will automatically consider the missing values as NaN.\n",
    "# If a user has mentioned `np.nan` value, then also it means that the user has not yet rated that book.\n",
    "user_1 = pd.Series(data = [3.2, np.nan ,2.5])\n",
    "user_2 = pd.Series(data = [5., 1.3, 4.0, 3.8])\n",
    "user_3 = pd.Series(data = [2.0, 2.3, np.nan, 4])\n",
    "user_4 = pd.Series(data = [4, 3.5, 4, 5, 4.2])\n",
    "\n",
    "\n",
    "# Use the data above to create a Pandas DataFrame that has the following column\n",
    "# labels: 'Author', 'Book Title', 'User 1', 'User 2', 'User 3', 'User 4'.\n",
    "# Let Pandas automatically assign numerical row indices to the DataFrame.\n",
    "\n",
    "# TO DO: Create a dictionary with the data given above\n",
    "dat = {\n",
    "    \"Author\": authors,\n",
    "    \"Book Title\": books,\n",
    "    \"User 1\": user_1,\n",
    "    \"User 2\": user_2,\n",
    "    \"User 3\": user_3,\n",
    "    \"User 4\": user_4\n",
    "}\n",
    "\n",
    "# TO DO: Create a Pandas DataFrame using the dictionary created above\n",
    "book_ratings = pd.DataFrame(dat)\n",
    "\n",
    "# TO DO:\n",
    "# If you created the dictionary correctly you should have a Pandas DataFrame\n",
    "# that has column labels:\n",
    "# 'Author', 'Book Title', 'User 1', 'User 2', 'User 3', 'User 4'\n",
    "# and row indices 0 through 4.\n",
    "\n",
    "# Now replace all the NaN values in your DataFrame with the average rating in\n",
    "# each column. Replace the NaN values in place.\n",
    "# HINT: Use the `pandas.DataFrame.fillna(value, inplace = True)` function for substituting the NaN values.\n",
    "# Write your code below:\n",
    "book_ratings[\"User 1\"].fillna(book_ratings[\"User 1\"].mean(),inplace=True)\n",
    "book_ratings[\"User 2\"].fillna(book_ratings[\"User 2\"].mean(),inplace=True)\n",
    "book_ratings[\"User 3\"].fillna(book_ratings[\"User 3\"].mean(),inplace=True)\n",
    "\n",
    "\n"
   ],
   "metadata": {
    "collapsed": false,
    "pycharm": {
     "name": "#%%\n"
    }
   }
  },
  {
   "cell_type": "code",
   "execution_count": 87,
   "outputs": [
    {
     "data": {
      "text/plain": "                Author           Book Title  User 1  User 2  User 3  User 4\n0      Charles Dickens   Great Expectations     3.2     5.0     2.0     4.0\n1       John Steinbeck      Of Mice and Men     2.9     1.3     2.3     3.5\n2  William Shakespeare     Romeo and Juliet     2.5     4.0     2.8     4.0\n3          H. G. Wells     The Time Machine     2.9     3.8     4.0     5.0\n4        Lewis Carroll  Alice in Wonderland     2.9     3.5     2.8     4.2",
      "text/html": "<div>\n<style scoped>\n    .dataframe tbody tr th:only-of-type {\n        vertical-align: middle;\n    }\n\n    .dataframe tbody tr th {\n        vertical-align: top;\n    }\n\n    .dataframe thead th {\n        text-align: right;\n    }\n</style>\n<table border=\"1\" class=\"dataframe\">\n  <thead>\n    <tr style=\"text-align: right;\">\n      <th></th>\n      <th>Author</th>\n      <th>Book Title</th>\n      <th>User 1</th>\n      <th>User 2</th>\n      <th>User 3</th>\n      <th>User 4</th>\n    </tr>\n  </thead>\n  <tbody>\n    <tr>\n      <th>0</th>\n      <td>Charles Dickens</td>\n      <td>Great Expectations</td>\n      <td>3.2</td>\n      <td>5.0</td>\n      <td>2.0</td>\n      <td>4.0</td>\n    </tr>\n    <tr>\n      <th>1</th>\n      <td>John Steinbeck</td>\n      <td>Of Mice and Men</td>\n      <td>2.9</td>\n      <td>1.3</td>\n      <td>2.3</td>\n      <td>3.5</td>\n    </tr>\n    <tr>\n      <th>2</th>\n      <td>William Shakespeare</td>\n      <td>Romeo and Juliet</td>\n      <td>2.5</td>\n      <td>4.0</td>\n      <td>2.8</td>\n      <td>4.0</td>\n    </tr>\n    <tr>\n      <th>3</th>\n      <td>H. G. Wells</td>\n      <td>The Time Machine</td>\n      <td>2.9</td>\n      <td>3.8</td>\n      <td>4.0</td>\n      <td>5.0</td>\n    </tr>\n    <tr>\n      <th>4</th>\n      <td>Lewis Carroll</td>\n      <td>Alice in Wonderland</td>\n      <td>2.9</td>\n      <td>3.5</td>\n      <td>2.8</td>\n      <td>4.2</td>\n    </tr>\n  </tbody>\n</table>\n</div>"
     },
     "execution_count": 87,
     "metadata": {},
     "output_type": "execute_result"
    }
   ],
   "source": [
    "book_ratings"
   ],
   "metadata": {
    "collapsed": false,
    "pycharm": {
     "name": "#%%\n"
    }
   }
  },
  {
   "cell_type": "code",
   "execution_count": 90,
   "outputs": [],
   "source": [
    "best_rated = book_ratings[(book_ratings == 5).any(axis = 1)]['Book Title'].values"
   ],
   "metadata": {
    "collapsed": false,
    "pycharm": {
     "name": "#%%\n"
    }
   }
  },
  {
   "cell_type": "code",
   "execution_count": 91,
   "outputs": [
    {
     "data": {
      "text/plain": "array(['Great Expectations', 'The Time Machine'], dtype=object)"
     },
     "execution_count": 91,
     "metadata": {},
     "output_type": "execute_result"
    }
   ],
   "source": [
    "best_rated"
   ],
   "metadata": {
    "collapsed": false,
    "pycharm": {
     "name": "#%%\n"
    }
   }
  },
  {
   "cell_type": "code",
   "execution_count": 92,
   "outputs": [],
   "source": [
    "google_stock = pd.read_csv(\"goog-1.csv\")"
   ],
   "metadata": {
    "collapsed": false,
    "pycharm": {
     "name": "#%%\n"
    }
   }
  },
  {
   "cell_type": "code",
   "execution_count": 93,
   "outputs": [
    {
     "data": {
      "text/plain": "            Date   Open   High    Low  Close  Adj Close    Volume\n0     2004-08-19   49.7   51.7   47.7   49.8       49.8  44994500\n1     2004-08-20   50.2   54.2   49.9   53.8       53.8  23005800\n2     2004-08-23   55.0   56.4   54.2   54.3       54.3  18393200\n3     2004-08-24   55.3   55.4   51.5   52.1       52.1  15361800\n4     2004-08-25   52.1   53.7   51.6   52.7       52.7   9257400\n...          ...    ...    ...    ...    ...        ...       ...\n3308  2017-10-09  980.0  985.4  976.1  977.0      977.0    891400\n3309  2017-10-10  980.0  981.6  966.1  972.6      972.6    968400\n3310  2017-10-11  973.7  990.7  972.2  989.2      989.2   1693300\n3311  2017-10-12  987.5  994.1  985.0  987.8      987.8   1262400\n3312  2017-10-13  992.0  997.2  989.0  989.7      989.7   1157700\n\n[3313 rows x 7 columns]",
      "text/html": "<div>\n<style scoped>\n    .dataframe tbody tr th:only-of-type {\n        vertical-align: middle;\n    }\n\n    .dataframe tbody tr th {\n        vertical-align: top;\n    }\n\n    .dataframe thead th {\n        text-align: right;\n    }\n</style>\n<table border=\"1\" class=\"dataframe\">\n  <thead>\n    <tr style=\"text-align: right;\">\n      <th></th>\n      <th>Date</th>\n      <th>Open</th>\n      <th>High</th>\n      <th>Low</th>\n      <th>Close</th>\n      <th>Adj Close</th>\n      <th>Volume</th>\n    </tr>\n  </thead>\n  <tbody>\n    <tr>\n      <th>0</th>\n      <td>2004-08-19</td>\n      <td>49.7</td>\n      <td>51.7</td>\n      <td>47.7</td>\n      <td>49.8</td>\n      <td>49.8</td>\n      <td>44994500</td>\n    </tr>\n    <tr>\n      <th>1</th>\n      <td>2004-08-20</td>\n      <td>50.2</td>\n      <td>54.2</td>\n      <td>49.9</td>\n      <td>53.8</td>\n      <td>53.8</td>\n      <td>23005800</td>\n    </tr>\n    <tr>\n      <th>2</th>\n      <td>2004-08-23</td>\n      <td>55.0</td>\n      <td>56.4</td>\n      <td>54.2</td>\n      <td>54.3</td>\n      <td>54.3</td>\n      <td>18393200</td>\n    </tr>\n    <tr>\n      <th>3</th>\n      <td>2004-08-24</td>\n      <td>55.3</td>\n      <td>55.4</td>\n      <td>51.5</td>\n      <td>52.1</td>\n      <td>52.1</td>\n      <td>15361800</td>\n    </tr>\n    <tr>\n      <th>4</th>\n      <td>2004-08-25</td>\n      <td>52.1</td>\n      <td>53.7</td>\n      <td>51.6</td>\n      <td>52.7</td>\n      <td>52.7</td>\n      <td>9257400</td>\n    </tr>\n    <tr>\n      <th>...</th>\n      <td>...</td>\n      <td>...</td>\n      <td>...</td>\n      <td>...</td>\n      <td>...</td>\n      <td>...</td>\n      <td>...</td>\n    </tr>\n    <tr>\n      <th>3308</th>\n      <td>2017-10-09</td>\n      <td>980.0</td>\n      <td>985.4</td>\n      <td>976.1</td>\n      <td>977.0</td>\n      <td>977.0</td>\n      <td>891400</td>\n    </tr>\n    <tr>\n      <th>3309</th>\n      <td>2017-10-10</td>\n      <td>980.0</td>\n      <td>981.6</td>\n      <td>966.1</td>\n      <td>972.6</td>\n      <td>972.6</td>\n      <td>968400</td>\n    </tr>\n    <tr>\n      <th>3310</th>\n      <td>2017-10-11</td>\n      <td>973.7</td>\n      <td>990.7</td>\n      <td>972.2</td>\n      <td>989.2</td>\n      <td>989.2</td>\n      <td>1693300</td>\n    </tr>\n    <tr>\n      <th>3311</th>\n      <td>2017-10-12</td>\n      <td>987.5</td>\n      <td>994.1</td>\n      <td>985.0</td>\n      <td>987.8</td>\n      <td>987.8</td>\n      <td>1262400</td>\n    </tr>\n    <tr>\n      <th>3312</th>\n      <td>2017-10-13</td>\n      <td>992.0</td>\n      <td>997.2</td>\n      <td>989.0</td>\n      <td>989.7</td>\n      <td>989.7</td>\n      <td>1157700</td>\n    </tr>\n  </tbody>\n</table>\n<p>3313 rows × 7 columns</p>\n</div>"
     },
     "execution_count": 93,
     "metadata": {},
     "output_type": "execute_result"
    }
   ],
   "source": [
    "google_stock"
   ],
   "metadata": {
    "collapsed": false,
    "pycharm": {
     "name": "#%%\n"
    }
   }
  },
  {
   "cell_type": "code",
   "execution_count": 94,
   "outputs": [
    {
     "data": {
      "text/plain": "         Date  Open  High   Low  Close  Adj Close    Volume\n0  2004-08-19  49.7  51.7  47.7   49.8       49.8  44994500\n1  2004-08-20  50.2  54.2  49.9   53.8       53.8  23005800\n2  2004-08-23  55.0  56.4  54.2   54.3       54.3  18393200\n3  2004-08-24  55.3  55.4  51.5   52.1       52.1  15361800\n4  2004-08-25  52.1  53.7  51.6   52.7       52.7   9257400",
      "text/html": "<div>\n<style scoped>\n    .dataframe tbody tr th:only-of-type {\n        vertical-align: middle;\n    }\n\n    .dataframe tbody tr th {\n        vertical-align: top;\n    }\n\n    .dataframe thead th {\n        text-align: right;\n    }\n</style>\n<table border=\"1\" class=\"dataframe\">\n  <thead>\n    <tr style=\"text-align: right;\">\n      <th></th>\n      <th>Date</th>\n      <th>Open</th>\n      <th>High</th>\n      <th>Low</th>\n      <th>Close</th>\n      <th>Adj Close</th>\n      <th>Volume</th>\n    </tr>\n  </thead>\n  <tbody>\n    <tr>\n      <th>0</th>\n      <td>2004-08-19</td>\n      <td>49.7</td>\n      <td>51.7</td>\n      <td>47.7</td>\n      <td>49.8</td>\n      <td>49.8</td>\n      <td>44994500</td>\n    </tr>\n    <tr>\n      <th>1</th>\n      <td>2004-08-20</td>\n      <td>50.2</td>\n      <td>54.2</td>\n      <td>49.9</td>\n      <td>53.8</td>\n      <td>53.8</td>\n      <td>23005800</td>\n    </tr>\n    <tr>\n      <th>2</th>\n      <td>2004-08-23</td>\n      <td>55.0</td>\n      <td>56.4</td>\n      <td>54.2</td>\n      <td>54.3</td>\n      <td>54.3</td>\n      <td>18393200</td>\n    </tr>\n    <tr>\n      <th>3</th>\n      <td>2004-08-24</td>\n      <td>55.3</td>\n      <td>55.4</td>\n      <td>51.5</td>\n      <td>52.1</td>\n      <td>52.1</td>\n      <td>15361800</td>\n    </tr>\n    <tr>\n      <th>4</th>\n      <td>2004-08-25</td>\n      <td>52.1</td>\n      <td>53.7</td>\n      <td>51.6</td>\n      <td>52.7</td>\n      <td>52.7</td>\n      <td>9257400</td>\n    </tr>\n  </tbody>\n</table>\n</div>"
     },
     "execution_count": 94,
     "metadata": {},
     "output_type": "execute_result"
    }
   ],
   "source": [
    "google_stock.head()"
   ],
   "metadata": {
    "collapsed": false,
    "pycharm": {
     "name": "#%%\n"
    }
   }
  },
  {
   "cell_type": "code",
   "execution_count": 95,
   "outputs": [
    {
     "data": {
      "text/plain": "Date         False\nOpen         False\nHigh         False\nLow          False\nClose        False\nAdj Close    False\nVolume       False\ndtype: bool"
     },
     "execution_count": 95,
     "metadata": {},
     "output_type": "execute_result"
    }
   ],
   "source": [
    "google_stock.isnull().any()"
   ],
   "metadata": {
    "collapsed": false,
    "pycharm": {
     "name": "#%%\n"
    }
   }
  },
  {
   "cell_type": "code",
   "execution_count": 96,
   "outputs": [
    {
     "data": {
      "text/plain": "         Open    High     Low   Close  Adj Close   Volume\ncount  3313.0  3313.0  3313.0  3313.0     3313.0  3.3e+03\nmean    380.2   383.5   376.5   380.1      380.1  8.0e+06\nstd     223.8   225.0   222.5   223.9      223.9  8.4e+06\nmin      49.3    50.5    47.7    49.7       49.7  7.9e+03\n25%     226.6   228.4   224.0   226.4      226.4  2.6e+06\n50%     293.3   295.4   289.9   293.0      293.0  5.3e+06\n75%     536.7   540.0   532.4   536.7      536.7  1.1e+07\nmax     992.0   997.2   989.0   989.7      989.7  8.3e+07",
      "text/html": "<div>\n<style scoped>\n    .dataframe tbody tr th:only-of-type {\n        vertical-align: middle;\n    }\n\n    .dataframe tbody tr th {\n        vertical-align: top;\n    }\n\n    .dataframe thead th {\n        text-align: right;\n    }\n</style>\n<table border=\"1\" class=\"dataframe\">\n  <thead>\n    <tr style=\"text-align: right;\">\n      <th></th>\n      <th>Open</th>\n      <th>High</th>\n      <th>Low</th>\n      <th>Close</th>\n      <th>Adj Close</th>\n      <th>Volume</th>\n    </tr>\n  </thead>\n  <tbody>\n    <tr>\n      <th>count</th>\n      <td>3313.0</td>\n      <td>3313.0</td>\n      <td>3313.0</td>\n      <td>3313.0</td>\n      <td>3313.0</td>\n      <td>3.3e+03</td>\n    </tr>\n    <tr>\n      <th>mean</th>\n      <td>380.2</td>\n      <td>383.5</td>\n      <td>376.5</td>\n      <td>380.1</td>\n      <td>380.1</td>\n      <td>8.0e+06</td>\n    </tr>\n    <tr>\n      <th>std</th>\n      <td>223.8</td>\n      <td>225.0</td>\n      <td>222.5</td>\n      <td>223.9</td>\n      <td>223.9</td>\n      <td>8.4e+06</td>\n    </tr>\n    <tr>\n      <th>min</th>\n      <td>49.3</td>\n      <td>50.5</td>\n      <td>47.7</td>\n      <td>49.7</td>\n      <td>49.7</td>\n      <td>7.9e+03</td>\n    </tr>\n    <tr>\n      <th>25%</th>\n      <td>226.6</td>\n      <td>228.4</td>\n      <td>224.0</td>\n      <td>226.4</td>\n      <td>226.4</td>\n      <td>2.6e+06</td>\n    </tr>\n    <tr>\n      <th>50%</th>\n      <td>293.3</td>\n      <td>295.4</td>\n      <td>289.9</td>\n      <td>293.0</td>\n      <td>293.0</td>\n      <td>5.3e+06</td>\n    </tr>\n    <tr>\n      <th>75%</th>\n      <td>536.7</td>\n      <td>540.0</td>\n      <td>532.4</td>\n      <td>536.7</td>\n      <td>536.7</td>\n      <td>1.1e+07</td>\n    </tr>\n    <tr>\n      <th>max</th>\n      <td>992.0</td>\n      <td>997.2</td>\n      <td>989.0</td>\n      <td>989.7</td>\n      <td>989.7</td>\n      <td>8.3e+07</td>\n    </tr>\n  </tbody>\n</table>\n</div>"
     },
     "execution_count": 96,
     "metadata": {},
     "output_type": "execute_result"
    }
   ],
   "source": [
    "google_stock.describe()"
   ],
   "metadata": {
    "collapsed": false,
    "pycharm": {
     "name": "#%%\n"
    }
   }
  },
  {
   "cell_type": "code",
   "execution_count": 97,
   "outputs": [
    {
     "name": "stderr",
     "output_type": "stream",
     "text": [
      "C:\\Users\\billy\\AppData\\Local\\Temp/ipykernel_3604/2995703419.py:1: FutureWarning: Dropping of nuisance columns in DataFrame reductions (with 'numeric_only=None') is deprecated; in a future version this will raise TypeError.  Select only valid columns before calling the reduction.\n",
      "  google_stock.mean()\n"
     ]
    },
    {
     "data": {
      "text/plain": "Open         3.8e+02\nHigh         3.8e+02\nLow          3.8e+02\nClose        3.8e+02\nAdj Close    3.8e+02\nVolume       8.0e+06\ndtype: float64"
     },
     "execution_count": 97,
     "metadata": {},
     "output_type": "execute_result"
    }
   ],
   "source": [
    "google_stock.mean()"
   ],
   "metadata": {
    "collapsed": false,
    "pycharm": {
     "name": "#%%\n"
    }
   }
  },
  {
   "cell_type": "code",
   "execution_count": 98,
   "outputs": [],
   "source": [
    "fake_data = pd.read_csv(\"fake-company.csv\")"
   ],
   "metadata": {
    "collapsed": false,
    "pycharm": {
     "name": "#%%\n"
    }
   }
  },
  {
   "cell_type": "code",
   "execution_count": 99,
   "outputs": [
    {
     "data": {
      "text/plain": "   Year     Name Department  Age  Salary\n0  1990    Alice         HR   25   50000\n1  1990      Bob         RD   30   48000\n2  1990  Charlie      Admin   45   55000\n3  1991   Dakota         HR   26   52000\n4  1991     Elsa         RD   31   50000\n5  1991    Frank      Admin   46   60000\n6  1992    Grace      Admin   27   60000\n7  1992  Hoffman         RD   32   52000\n8  1992    Inaar      Admin   28   62000",
      "text/html": "<div>\n<style scoped>\n    .dataframe tbody tr th:only-of-type {\n        vertical-align: middle;\n    }\n\n    .dataframe tbody tr th {\n        vertical-align: top;\n    }\n\n    .dataframe thead th {\n        text-align: right;\n    }\n</style>\n<table border=\"1\" class=\"dataframe\">\n  <thead>\n    <tr style=\"text-align: right;\">\n      <th></th>\n      <th>Year</th>\n      <th>Name</th>\n      <th>Department</th>\n      <th>Age</th>\n      <th>Salary</th>\n    </tr>\n  </thead>\n  <tbody>\n    <tr>\n      <th>0</th>\n      <td>1990</td>\n      <td>Alice</td>\n      <td>HR</td>\n      <td>25</td>\n      <td>50000</td>\n    </tr>\n    <tr>\n      <th>1</th>\n      <td>1990</td>\n      <td>Bob</td>\n      <td>RD</td>\n      <td>30</td>\n      <td>48000</td>\n    </tr>\n    <tr>\n      <th>2</th>\n      <td>1990</td>\n      <td>Charlie</td>\n      <td>Admin</td>\n      <td>45</td>\n      <td>55000</td>\n    </tr>\n    <tr>\n      <th>3</th>\n      <td>1991</td>\n      <td>Dakota</td>\n      <td>HR</td>\n      <td>26</td>\n      <td>52000</td>\n    </tr>\n    <tr>\n      <th>4</th>\n      <td>1991</td>\n      <td>Elsa</td>\n      <td>RD</td>\n      <td>31</td>\n      <td>50000</td>\n    </tr>\n    <tr>\n      <th>5</th>\n      <td>1991</td>\n      <td>Frank</td>\n      <td>Admin</td>\n      <td>46</td>\n      <td>60000</td>\n    </tr>\n    <tr>\n      <th>6</th>\n      <td>1992</td>\n      <td>Grace</td>\n      <td>Admin</td>\n      <td>27</td>\n      <td>60000</td>\n    </tr>\n    <tr>\n      <th>7</th>\n      <td>1992</td>\n      <td>Hoffman</td>\n      <td>RD</td>\n      <td>32</td>\n      <td>52000</td>\n    </tr>\n    <tr>\n      <th>8</th>\n      <td>1992</td>\n      <td>Inaar</td>\n      <td>Admin</td>\n      <td>28</td>\n      <td>62000</td>\n    </tr>\n  </tbody>\n</table>\n</div>"
     },
     "execution_count": 99,
     "metadata": {},
     "output_type": "execute_result"
    }
   ],
   "source": [
    "fake_data"
   ],
   "metadata": {
    "collapsed": false,
    "pycharm": {
     "name": "#%%\n"
    }
   }
  },
  {
   "cell_type": "code",
   "execution_count": 101,
   "outputs": [
    {
     "data": {
      "text/plain": "Year\n1990    153000\n1991    162000\n1992    174000\nName: Salary, dtype: int64"
     },
     "execution_count": 101,
     "metadata": {},
     "output_type": "execute_result"
    }
   ],
   "source": [
    "fake_data.groupby(['Year'])['Salary'].sum()"
   ],
   "metadata": {
    "collapsed": false,
    "pycharm": {
     "name": "#%%\n"
    }
   }
  },
  {
   "cell_type": "code",
   "execution_count": 102,
   "outputs": [
    {
     "data": {
      "text/plain": "            Date   Open   High    Low  Close  Adj Close   Volume\n3308  2017-10-09  980.0  985.4  976.1  977.0      977.0   891400\n3309  2017-10-10  980.0  981.6  966.1  972.6      972.6   968400\n3310  2017-10-11  973.7  990.7  972.2  989.2      989.2  1693300\n3311  2017-10-12  987.5  994.1  985.0  987.8      987.8  1262400\n3312  2017-10-13  992.0  997.2  989.0  989.7      989.7  1157700",
      "text/html": "<div>\n<style scoped>\n    .dataframe tbody tr th:only-of-type {\n        vertical-align: middle;\n    }\n\n    .dataframe tbody tr th {\n        vertical-align: top;\n    }\n\n    .dataframe thead th {\n        text-align: right;\n    }\n</style>\n<table border=\"1\" class=\"dataframe\">\n  <thead>\n    <tr style=\"text-align: right;\">\n      <th></th>\n      <th>Date</th>\n      <th>Open</th>\n      <th>High</th>\n      <th>Low</th>\n      <th>Close</th>\n      <th>Adj Close</th>\n      <th>Volume</th>\n    </tr>\n  </thead>\n  <tbody>\n    <tr>\n      <th>3308</th>\n      <td>2017-10-09</td>\n      <td>980.0</td>\n      <td>985.4</td>\n      <td>976.1</td>\n      <td>977.0</td>\n      <td>977.0</td>\n      <td>891400</td>\n    </tr>\n    <tr>\n      <th>3309</th>\n      <td>2017-10-10</td>\n      <td>980.0</td>\n      <td>981.6</td>\n      <td>966.1</td>\n      <td>972.6</td>\n      <td>972.6</td>\n      <td>968400</td>\n    </tr>\n    <tr>\n      <th>3310</th>\n      <td>2017-10-11</td>\n      <td>973.7</td>\n      <td>990.7</td>\n      <td>972.2</td>\n      <td>989.2</td>\n      <td>989.2</td>\n      <td>1693300</td>\n    </tr>\n    <tr>\n      <th>3311</th>\n      <td>2017-10-12</td>\n      <td>987.5</td>\n      <td>994.1</td>\n      <td>985.0</td>\n      <td>987.8</td>\n      <td>987.8</td>\n      <td>1262400</td>\n    </tr>\n    <tr>\n      <th>3312</th>\n      <td>2017-10-13</td>\n      <td>992.0</td>\n      <td>997.2</td>\n      <td>989.0</td>\n      <td>989.7</td>\n      <td>989.7</td>\n      <td>1157700</td>\n    </tr>\n  </tbody>\n</table>\n</div>"
     },
     "execution_count": 102,
     "metadata": {},
     "output_type": "execute_result"
    }
   ],
   "source": [
    "google_stock.tail()"
   ],
   "metadata": {
    "collapsed": false,
    "pycharm": {
     "name": "#%%\n"
    }
   }
  },
  {
   "cell_type": "code",
   "execution_count": 103,
   "outputs": [
    {
     "data": {
      "text/plain": "Date         3313\nOpen         3313\nHigh         3313\nLow          3313\nClose        3313\nAdj Close    3313\nVolume       3313\ndtype: int64"
     },
     "execution_count": 103,
     "metadata": {},
     "output_type": "execute_result"
    }
   ],
   "source": [
    "google_stock.isnull().count()"
   ],
   "metadata": {
    "collapsed": false,
    "pycharm": {
     "name": "#%%\n"
    }
   }
  },
  {
   "cell_type": "code",
   "execution_count": 104,
   "outputs": [
    {
     "data": {
      "text/plain": "Date        Open   High   Low    Close  Adj Close  Volume  \n2004-08-19  49.7   51.7   47.7   49.8   49.8       44994500    1\n2013-06-05  428.5  431.9  425.8  427.1  427.1      4240900     1\n2013-05-21  451.1  452.9  445.9  450.6  450.6      3991600     1\n2013-05-22  448.4  451.7  440.6  441.8  441.8      5154400     1\n2013-05-23  435.7  442.1  434.2  438.5  438.5      4579700     1\n                                                              ..\n2009-01-12  157.1  158.4  154.1  155.3  155.3      6651500     1\n2009-01-13  154.9  159.3  154.2  156.1  156.1      8922500     1\n2009-01-14  154.0  155.9  147.9  149.5  149.5      11006800    1\n2009-01-15  147.8  150.8  142.5  148.5  148.5      11946100    1\n2017-10-13  992.0  997.2  989.0  989.7  989.7      1157700     1\nLength: 3313, dtype: int64"
     },
     "execution_count": 104,
     "metadata": {},
     "output_type": "execute_result"
    }
   ],
   "source": [
    "google_stock.value_counts()"
   ],
   "metadata": {
    "collapsed": false,
    "pycharm": {
     "name": "#%%\n"
    }
   }
  },
  {
   "cell_type": "code",
   "execution_count": 105,
   "outputs": [
    {
     "name": "stdout",
     "output_type": "stream",
     "text": [
      "[0, 1, 2, 3]\n",
      "[4, 5, 6, 7]\n",
      "[8, 9, 10, 11]\n",
      "[12, 13, 14, 15]\n",
      "[16, 17, 18, 19]\n",
      "[20, 21, 22, 23]\n",
      "[24]\n"
     ]
    }
   ],
   "source": [
    "def chunker(iterable, size):\n",
    "    \"\"\"Yield successive chunks from iterable of length size.\"\"\"\n",
    "    for i in range(0, len(iterable), size):\n",
    "        yield iterable[i:i + size]\n",
    "\n",
    "for chunk in chunker(range(25), 4):\n",
    "    print(list(chunk))"
   ],
   "metadata": {
    "collapsed": false,
    "pycharm": {
     "name": "#%%\n"
    }
   }
  },
  {
   "cell_type": "code",
   "execution_count": 107,
   "outputs": [
    {
     "data": {
      "text/plain": "200"
     },
     "execution_count": 107,
     "metadata": {},
     "output_type": "execute_result"
    }
   ],
   "source": [
    "len([0, 1] * 100)"
   ],
   "metadata": {
    "collapsed": false,
    "pycharm": {
     "name": "#%%\n"
    }
   }
  },
  {
   "cell_type": "code",
   "execution_count": 5,
   "outputs": [
    {
     "ename": "NameError",
     "evalue": "name 'random' is not defined",
     "output_type": "error",
     "traceback": [
      "\u001B[1;31m---------------------------------------------------------------------------\u001B[0m",
      "\u001B[1;31mNameError\u001B[0m                                 Traceback (most recent call last)",
      "\u001B[1;32m~\\AppData\\Local\\Temp/ipykernel_2824/3157055068.py\u001B[0m in \u001B[0;36m<module>\u001B[1;34m\u001B[0m\n\u001B[0;32m      1\u001B[0m \u001B[1;32mimport\u001B[0m \u001B[0mnumpy\u001B[0m \u001B[1;32mas\u001B[0m \u001B[0mnp\u001B[0m\u001B[1;33m\u001B[0m\u001B[1;33m\u001B[0m\u001B[0m\n\u001B[0;32m      2\u001B[0m \u001B[1;33m\u001B[0m\u001B[0m\n\u001B[1;32m----> 3\u001B[1;33m \u001B[0mrandom\u001B[0m\u001B[1;33m(\u001B[0m\u001B[1;36m2\u001B[0m\u001B[1;33m)\u001B[0m\u001B[1;33m\u001B[0m\u001B[1;33m\u001B[0m\u001B[0m\n\u001B[0m",
      "\u001B[1;31mNameError\u001B[0m: name 'random' is not defined"
     ]
    }
   ],
   "source": [
    "import numpy as np\n",
    "\n"
   ],
   "metadata": {
    "collapsed": false,
    "pycharm": {
     "name": "#%%\n"
    }
   }
  },
  {
   "cell_type": "code",
   "execution_count": null,
   "outputs": [],
   "source": [],
   "metadata": {
    "collapsed": false,
    "pycharm": {
     "name": "#%%\n"
    }
   }
  }
 ],
 "metadata": {
  "kernelspec": {
   "display_name": "Python 3",
   "language": "python",
   "name": "python3"
  },
  "language_info": {
   "codemirror_mode": {
    "name": "ipython",
    "version": 2
   },
   "file_extension": ".py",
   "mimetype": "text/x-python",
   "name": "python",
   "nbconvert_exporter": "python",
   "pygments_lexer": "ipython2",
   "version": "2.7.6"
  }
 },
 "nbformat": 4,
 "nbformat_minor": 0
}